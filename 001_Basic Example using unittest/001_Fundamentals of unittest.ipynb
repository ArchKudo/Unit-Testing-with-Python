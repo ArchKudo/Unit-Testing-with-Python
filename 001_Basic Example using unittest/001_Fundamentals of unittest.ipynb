{
 "cells": [
  {
   "cell_type": "markdown",
   "metadata": {},
   "source": [
    "## Unittesting basics"
   ]
  },
  {
   "cell_type": "markdown",
   "metadata": {},
   "source": [
    "Unittest check the behaviour of __elements of code__, such as:\n",
    "1. A method or function\n",
    "2. A module or class"
   ]
  },
  {
   "cell_type": "markdown",
   "metadata": {},
   "source": [
    "### Testing the phone number class(known as the system under test)"
   ]
  },
  {
   "cell_type": "code",
   "execution_count": 1,
   "metadata": {
    "collapsed": true
   },
   "outputs": [],
   "source": [
    "class PhoneBook:\n",
    "    def __init__(self):\n",
    "        pass"
   ]
  },
  {
   "cell_type": "markdown",
   "metadata": {},
   "source": [
    "### Writing the testcase"
   ]
  },
  {
   "cell_type": "code",
   "execution_count": 2,
   "metadata": {
    "collapsed": true
   },
   "outputs": [],
   "source": [
    "import unittest"
   ]
  },
  {
   "cell_type": "code",
   "execution_count": 3,
   "metadata": {
    "collapsed": true
   },
   "outputs": [],
   "source": [
    "class TestPhoneBook(unittest.TestCase):\n",
    "    \n",
    "    def test_create_phonebook(self):\n",
    "        PhoneBook()"
   ]
  },
  {
   "cell_type": "markdown",
   "metadata": {},
   "source": [
    "### Running the test using the Test Runner"
   ]
  },
  {
   "cell_type": "code",
   "execution_count": 4,
   "metadata": {
    "collapsed": true
   },
   "outputs": [],
   "source": [
    "import sys"
   ]
  },
  {
   "cell_type": "code",
   "execution_count": 5,
   "metadata": {
    "collapsed": false
   },
   "outputs": [
    {
     "name": "stderr",
     "output_type": "stream",
     "text": [
      ".\n",
      "----------------------------------------------------------------------\n",
      "Ran 1 test in 0.003s\n",
      "\n",
      "OK\n"
     ]
    },
    {
     "data": {
      "text/plain": [
       "<unittest.runner.TextTestResult run=1 errors=0 failures=0>"
      ]
     },
     "execution_count": 5,
     "metadata": {},
     "output_type": "execute_result"
    }
   ],
   "source": [
    "suite = unittest.TestLoader().loadTestsFromTestCase(TestPhoneBook)\n",
    "unittest.TextTestRunner(verbosity=1, stream=sys.stderr).run(suite)"
   ]
  },
  {
   "cell_type": "markdown",
   "metadata": {
    "collapsed": true
   },
   "source": [
    "### Adding basic methods"
   ]
  },
  {
   "cell_type": "code",
   "execution_count": 6,
   "metadata": {
    "collapsed": true
   },
   "outputs": [],
   "source": [
    "class PhoneBook:\n",
    "    def __init__(self):\n",
    "        self.entries = {} # Empty dict\n",
    "        \n",
    "    def add(self, name, number):\n",
    "        self.entries[name] = number\n",
    "        \n",
    "    def lookup(self, name):\n",
    "        return self.entries[name]"
   ]
  },
  {
   "cell_type": "markdown",
   "metadata": {},
   "source": [
    "### And the tests"
   ]
  },
  {
   "cell_type": "code",
   "execution_count": 7,
   "metadata": {
    "collapsed": true
   },
   "outputs": [],
   "source": [
    "import unittest, sys"
   ]
  },
  {
   "cell_type": "code",
   "execution_count": 8,
   "metadata": {
    "collapsed": true
   },
   "outputs": [],
   "source": [
    "class TestPhoneBook(unittest.TestCase):\n",
    "    \n",
    "    def test_create_phonebook(self):\n",
    "        PhoneBook()\n",
    "        \n",
    "    def test_lookup_entry_by_name(self):\n",
    "        phonebook = PhoneBook()\n",
    "        phonebook.add('Person', '112233112233')\n",
    "        \n",
    "        # is '112233112233' == phonebook.lookup('Person')?\n",
    "        self.assertEqual('112233112233', phonebook.lookup('Person'))"
   ]
  },
  {
   "cell_type": "code",
   "execution_count": 9,
   "metadata": {
    "collapsed": false,
    "scrolled": true
   },
   "outputs": [
    {
     "name": "stderr",
     "output_type": "stream",
     "text": [
      "..\n",
      "----------------------------------------------------------------------\n",
      "Ran 2 tests in 0.004s\n",
      "\n",
      "OK\n"
     ]
    },
    {
     "data": {
      "text/plain": [
       "<unittest.runner.TextTestResult run=2 errors=0 failures=0>"
      ]
     },
     "execution_count": 9,
     "metadata": {},
     "output_type": "execute_result"
    }
   ],
   "source": [
    "suite = unittest.TestLoader().loadTestsFromTestCase(TestPhoneBook)\n",
    "unittest.TextTestRunner(verbosity=1, stream=sys.stderr).run(suite)"
   ]
  },
  {
   "cell_type": "markdown",
   "metadata": {},
   "source": [
    "### Using assertRaises"
   ]
  },
  {
   "cell_type": "code",
   "execution_count": 10,
   "metadata": {
    "collapsed": true
   },
   "outputs": [],
   "source": [
    "class TestPhoneBook(unittest.TestCase):\n",
    "    \n",
    "    def test_create_phonebook(self):\n",
    "        PhoneBook()\n",
    "        \n",
    "    def test_lookup_entry_by_name(self):\n",
    "        phonebook = PhoneBook()\n",
    "        phonebook.add('Person', '112233112233')\n",
    "        self.assertEqual('112233112233', phonebook.lookup('Person'))\n",
    "        \n",
    "    def test_missing_entry_raises_KeyError(self):\n",
    "        phonebook = PhoneBook()\n",
    "        with self.assertRaises(KeyError):\n",
    "            phonebook.lookup('Unknown Phone Number')"
   ]
  },
  {
   "cell_type": "code",
   "execution_count": 11,
   "metadata": {
    "collapsed": false
   },
   "outputs": [
    {
     "name": "stderr",
     "output_type": "stream",
     "text": [
      "...\n",
      "----------------------------------------------------------------------\n",
      "Ran 3 tests in 0.007s\n",
      "\n",
      "OK\n"
     ]
    },
    {
     "data": {
      "text/plain": [
       "<unittest.runner.TextTestResult run=3 errors=0 failures=0>"
      ]
     },
     "execution_count": 11,
     "metadata": {},
     "output_type": "execute_result"
    }
   ],
   "source": [
    "suite = unittest.TestLoader().loadTestsFromTestCase(TestPhoneBook)\n",
    "unittest.TextTestRunner(verbosity=1, stream=sys.stderr).run(suite)"
   ]
  },
  {
   "cell_type": "markdown",
   "metadata": {},
   "source": [
    "## Skipping Test"
   ]
  },
  {
   "cell_type": "code",
   "execution_count": 12,
   "metadata": {
    "collapsed": true
   },
   "outputs": [],
   "source": [
    "class TestPhoneBook(unittest.TestCase):\n",
    "    \n",
    "    def test_create_phonebook(self):\n",
    "        PhoneBook()\n",
    "        \n",
    "    def test_lookup_entry_by_name(self):\n",
    "        phonebook = PhoneBook()\n",
    "        phonebook.add('Person', '112233112233')\n",
    "        self.assertEqual('112233112233', phonebook.lookup('Person'))\n",
    "        \n",
    "    def test_missing_entry_raises_KeyError(self):\n",
    "        phonebook = PhoneBook()\n",
    "        with self.assertRaises(KeyError):\n",
    "            phonebook.lookup('Unknown Phone Number')\n",
    "            \n",
    "    @unittest.skip('WIP')\n",
    "    def test_empty_phonebook_is_consistent(self):\n",
    "        phonebook = PhoneBook()\n",
    "        self.assertTrue(phonebook.is_consistent())"
   ]
  },
  {
   "cell_type": "code",
   "execution_count": 13,
   "metadata": {
    "collapsed": false
   },
   "outputs": [
    {
     "name": "stderr",
     "output_type": "stream",
     "text": [
      ".s..\n",
      "----------------------------------------------------------------------\n",
      "Ran 4 tests in 0.009s\n",
      "\n",
      "OK (skipped=1)\n"
     ]
    },
    {
     "data": {
      "text/plain": [
       "<unittest.runner.TextTestResult run=4 errors=0 failures=0>"
      ]
     },
     "execution_count": 13,
     "metadata": {},
     "output_type": "execute_result"
    }
   ],
   "source": [
    "suite = unittest.TestLoader().loadTestsFromTestCase(TestPhoneBook)\n",
    "unittest.TextTestRunner(verbosity=1, stream=sys.stderr).run(suite)"
   ]
  },
  {
   "cell_type": "markdown",
   "metadata": {},
   "source": [
    "### Using setUp and tearDown methods"
   ]
  },
  {
   "cell_type": "code",
   "execution_count": 14,
   "metadata": {
    "collapsed": true
   },
   "outputs": [],
   "source": [
    "class TestPhoneBook(unittest.TestCase):\n",
    "    \n",
    "    # Known as fixtures\n",
    "    def setUp(self):\n",
    "        self.phonebook = PhoneBook()\n",
    "        \n",
    "    def test_lookup_entry_by_name(self):\n",
    "        self.phonebook.add('Person', '112233112233')\n",
    "        self.assertEqual('112233112233', self.phonebook.lookup('Person'))\n",
    "        \n",
    "    def test_missing_entry_raises_KeyError(self):\n",
    "        with self.assertRaises(KeyError):\n",
    "            self.phonebook.lookup('Unknown Phone Number')\n",
    "            \n",
    "    @unittest.skip('WIP')\n",
    "    def test_empty_phonebook_is_consistent(self):\n",
    "        self.assertTrue(self.phonebook.is_consistent())"
   ]
  },
  {
   "cell_type": "code",
   "execution_count": 15,
   "metadata": {
    "collapsed": false
   },
   "outputs": [
    {
     "name": "stderr",
     "output_type": "stream",
     "text": [
      "s..\n",
      "----------------------------------------------------------------------\n",
      "Ran 3 tests in 0.004s\n",
      "\n",
      "OK (skipped=1)\n"
     ]
    },
    {
     "data": {
      "text/plain": [
       "<unittest.runner.TextTestResult run=3 errors=0 failures=0>"
      ]
     },
     "execution_count": 15,
     "metadata": {},
     "output_type": "execute_result"
    }
   ],
   "source": [
    "suite = unittest.TestLoader().loadTestsFromTestCase(TestPhoneBook)\n",
    "unittest.TextTestRunner(verbosity=1, stream=sys.stderr).run(suite)"
   ]
  },
  {
   "cell_type": "code",
   "execution_count": 16,
   "metadata": {
    "collapsed": true
   },
   "outputs": [],
   "source": [
    "class TestPhoneBook(unittest.TestCase):\n",
    "    \n",
    "    def setUp(self):\n",
    "        self.phonebook = PhoneBook()\n",
    "        \n",
    "    def test_lookup_entry_by_name(self):\n",
    "        self.phonebook.add('Person', '112233112233')\n",
    "        self.assertEqual('112233112233', self.phonebook.lookup('Person'))\n",
    "        \n",
    "    def test_missing_entry_raises_KeyError(self):\n",
    "        with self.assertRaises(KeyError):\n",
    "            self.phonebook.lookup('Unknown Phone Number')\n",
    "            \n",
    "    def test_empty_phonebook_is_consistent(self):\n",
    "        self.assertTrue(self.phonebook.is_consistent())\n",
    "     \n",
    "    @unittest.skip('Poor Implementation')\n",
    "    def test_is_consistent(self):\n",
    "        self.assertTrue(self.phonebook.is_consistent())\n",
    "        self.phonebook.add('bob', '12345')\n",
    "        self.assertTrue(self.phonebook.is_consistent())\n",
    "        self.phonebook.add('mary', '012345')\n",
    "        self.assertTrue(self.phonebook.is_consistent())\n",
    "        \n",
    "        # If it fails here the next assertion won't run\n",
    "        self.phonebook.add('jon', '12345')\n",
    "        self.assertFalse(self.phonebook.is_consistent())\n",
    "        \n",
    "        self.phonebook.add('jon', '212121')\n",
    "        self.assertFalse(self.phonebook.is_consistent())\n",
    "        \n",
    "    # Spliting the previous test into sub-parts\n",
    "    def test_phonebook_with_normal_entries_are_consistent(self):\n",
    "        self.phonebook.add('Bob', '12345')\n",
    "        self.phonebook.add('Mary', '012345')\n",
    "        self.assertTrue(self.phonebook.is_consistent())\n",
    "        \n",
    "    def test_phonebook_with_duplicate_entries_are_inconsistent(self):\n",
    "        self.phonebook.add('Bob', '12345')\n",
    "        self.phonebook.add('Mary', '12345')\n",
    "        self.assertFalse(self.phonebook.is_consistent())"
   ]
  },
  {
   "cell_type": "code",
   "execution_count": 17,
   "metadata": {
    "collapsed": false
   },
   "outputs": [
    {
     "name": "stderr",
     "output_type": "stream",
     "text": [
      "Es..EE\n",
      "======================================================================\n",
      "ERROR: test_empty_phonebook_is_consistent (__main__.TestPhoneBook)\n",
      "----------------------------------------------------------------------\n",
      "Traceback (most recent call last):\n",
      "  File \"<ipython-input-16-04f6b08f7b1e>\", line 15, in test_empty_phonebook_is_consistent\n",
      "    self.assertTrue(self.phonebook.is_consistent())\n",
      "AttributeError: 'PhoneBook' object has no attribute 'is_consistent'\n",
      "\n",
      "======================================================================\n",
      "ERROR: test_phonebook_with_duplicate_entries_are_inconsistent (__main__.TestPhoneBook)\n",
      "----------------------------------------------------------------------\n",
      "Traceback (most recent call last):\n",
      "  File \"<ipython-input-16-04f6b08f7b1e>\", line 41, in test_phonebook_with_duplicate_entries_are_inconsistent\n",
      "    self.assertFalse(self.phonebook.is_consistent())\n",
      "AttributeError: 'PhoneBook' object has no attribute 'is_consistent'\n",
      "\n",
      "======================================================================\n",
      "ERROR: test_phonebook_with_normal_entries_are_consistent (__main__.TestPhoneBook)\n",
      "----------------------------------------------------------------------\n",
      "Traceback (most recent call last):\n",
      "  File \"<ipython-input-16-04f6b08f7b1e>\", line 36, in test_phonebook_with_normal_entries_are_consistent\n",
      "    self.assertTrue(self.phonebook.is_consistent())\n",
      "AttributeError: 'PhoneBook' object has no attribute 'is_consistent'\n",
      "\n",
      "----------------------------------------------------------------------\n",
      "Ran 6 tests in 0.011s\n",
      "\n",
      "FAILED (errors=3, skipped=1)\n"
     ]
    },
    {
     "data": {
      "text/plain": [
       "<unittest.runner.TextTestResult run=6 errors=3 failures=0>"
      ]
     },
     "execution_count": 17,
     "metadata": {},
     "output_type": "execute_result"
    }
   ],
   "source": [
    "suite = unittest.TestLoader().loadTestsFromTestCase(TestPhoneBook)\n",
    "unittest.TextTestRunner(verbosity=1, stream=sys.stderr).run(suite)"
   ]
  },
  {
   "cell_type": "markdown",
   "metadata": {},
   "source": [
    "### Implementing the is_consistent method"
   ]
  },
  {
   "cell_type": "code",
   "execution_count": 18,
   "metadata": {
    "collapsed": true
   },
   "outputs": [],
   "source": [
    "from PhoneBook.phonebook import PhoneBook"
   ]
  },
  {
   "cell_type": "code",
   "execution_count": 19,
   "metadata": {
    "collapsed": false
   },
   "outputs": [
    {
     "name": "stderr",
     "output_type": "stream",
     "text": [
      ".s....\n",
      "----------------------------------------------------------------------\n",
      "Ran 6 tests in 0.011s\n",
      "\n",
      "OK (skipped=1)\n"
     ]
    },
    {
     "data": {
      "text/plain": [
       "<unittest.runner.TextTestResult run=6 errors=0 failures=0>"
      ]
     },
     "execution_count": 19,
     "metadata": {},
     "output_type": "execute_result"
    }
   ],
   "source": [
    "suite = unittest.TestLoader().loadTestsFromTestCase(TestPhoneBook)\n",
    "unittest.TextTestRunner(verbosity=1, stream=sys.stderr).run(suite)"
   ]
  },
  {
   "cell_type": "code",
   "execution_count": null,
   "metadata": {
    "collapsed": true
   },
   "outputs": [],
   "source": []
  }
 ],
 "metadata": {
  "kernelspec": {
   "display_name": "Python [conda root]",
   "language": "python",
   "name": "conda-root-py"
  },
  "language_info": {
   "codemirror_mode": {
    "name": "ipython",
    "version": 3
   },
   "file_extension": ".py",
   "mimetype": "text/x-python",
   "name": "python",
   "nbconvert_exporter": "python",
   "pygments_lexer": "ipython3",
   "version": "3.5.2"
  }
 },
 "nbformat": 4,
 "nbformat_minor": 2
}
